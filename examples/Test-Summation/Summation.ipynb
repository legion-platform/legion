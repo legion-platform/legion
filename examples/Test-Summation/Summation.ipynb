{
 "cells": [
  {
   "cell_type": "code",
   "execution_count": null,
   "metadata": {},
   "outputs": [],
   "source": [
    "from legion.toolchain.metrics import Metric\n",
    "from legion.toolchain import model"
   ]
  },
  {
   "cell_type": "code",
   "execution_count": null,
   "metadata": {},
   "outputs": [],
   "source": [
    "model.init('test summation', '1.0')"
   ]
  },
  {
   "cell_type": "code",
   "execution_count": null,
   "metadata": {},
   "outputs": [],
   "source": [
    "def calculate_sum(x):\n",
    "    return int(x['a']) + int(x['b'])\n",
    "\n",
    "\n",
    "def calculate_sum_and_pow(x):\n",
    "    return 10 * (x['a'] + x['b'])"
   ]
  },
  {
   "cell_type": "code",
   "execution_count": null,
   "metadata": {},
   "outputs": [],
   "source": [
    "model.send_metric(Metric.TEST_ACCURACY, 100.0)"
   ]
  },
  {
   "cell_type": "code",
   "execution_count": null,
   "metadata": {},
   "outputs": [],
   "source": [
    "model.export_untyped(lambda x: {'result': int(calculate_sum(x))})\n",
    "\n",
    "model.export(lambda x: {'result': int(calculate_sum_and_pow(x))}, {\n",
    "    'a': model.int32,\n",
    "    'b': model.int32\n",
    "}, endpoint='sum_and_pow')\n",
    "\n",
    "model.save()"
   ]
  }
 ],
 "metadata": {
  "kernelspec": {
   "display_name": "Python 3",
   "language": "python",
   "name": "python3"
  },
  "language_info": {
   "codemirror_mode": {
    "name": "ipython",
    "version": 3
   },
   "file_extension": ".py",
   "mimetype": "text/x-python",
   "name": "python",
   "nbconvert_exporter": "python",
   "pygments_lexer": "ipython3",
   "version": "3.5.2"
  }
 },
 "nbformat": 4,
 "nbformat_minor": 2
}
